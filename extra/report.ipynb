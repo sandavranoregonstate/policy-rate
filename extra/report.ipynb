{
 "cells": [
  {
   "cell_type": "markdown",
   "metadata": {},
   "source": [
    "1. I have completed a hyper parametert search for the tabular q learning. \n",
    "2. I have not completed a hyper parameter search for the deep q network, because it took a lot of time to run. \n",
    "3. For time constraints, I have decided to not use a \"deep\" network. \n",
    "4. I have not implemented epsilon-decay, experience replay or target network. "
   ]
  }
 ],
 "metadata": {
  "language_info": {
   "name": "python"
  }
 },
 "nbformat": 4,
 "nbformat_minor": 2
}
